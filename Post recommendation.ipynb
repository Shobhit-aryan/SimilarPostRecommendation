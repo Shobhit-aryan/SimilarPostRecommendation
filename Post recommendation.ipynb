{
 "cells": [
  {
   "cell_type": "code",
   "execution_count": 2,
   "metadata": {},
   "outputs": [],
   "source": [
    "import numpy as np\n",
    "import pandas as pd\n",
    "from sklearn.feature_extraction.text import CountVectorizer\n",
    "from sklearn.metrics.pairwise import cosine_similarity"
   ]
  },
  {
   "cell_type": "code",
   "execution_count": 4,
   "metadata": {},
   "outputs": [
    {
     "data": {
      "text/html": [
       "<div>\n",
       "<style scoped>\n",
       "    .dataframe tbody tr th:only-of-type {\n",
       "        vertical-align: middle;\n",
       "    }\n",
       "\n",
       "    .dataframe tbody tr th {\n",
       "        vertical-align: top;\n",
       "    }\n",
       "\n",
       "    .dataframe thead th {\n",
       "        text-align: right;\n",
       "    }\n",
       "</style>\n",
       "<table border=\"1\" class=\"dataframe\">\n",
       "  <thead>\n",
       "    <tr style=\"text-align: right;\">\n",
       "      <th></th>\n",
       "      <th>_id</th>\n",
       "      <th>title</th>\n",
       "      <th>category</th>\n",
       "      <th>post_type</th>\n",
       "    </tr>\n",
       "  </thead>\n",
       "  <tbody>\n",
       "    <tr>\n",
       "      <td>0</td>\n",
       "      <td>5d62abaa65218653a132c956</td>\n",
       "      <td>hello there</td>\n",
       "      <td>Plant Biotechnology</td>\n",
       "      <td>blog</td>\n",
       "    </tr>\n",
       "    <tr>\n",
       "      <td>1</td>\n",
       "      <td>5d6d39567fa40e1417a4931c</td>\n",
       "      <td>Ml and AI</td>\n",
       "      <td>Artificial Intelligence|Machine Learning|Infor...</td>\n",
       "      <td>blog</td>\n",
       "    </tr>\n",
       "    <tr>\n",
       "      <td>2</td>\n",
       "      <td>5d7d23315720533e15c3b1ee</td>\n",
       "      <td>What is an Operating System ?</td>\n",
       "      <td>Operating Systems</td>\n",
       "      <td>blog</td>\n",
       "    </tr>\n",
       "    <tr>\n",
       "      <td>3</td>\n",
       "      <td>5d7d405e5720533e15c3b1f3</td>\n",
       "      <td>Lord Shiva</td>\n",
       "      <td>Drawings</td>\n",
       "      <td>artwork</td>\n",
       "    </tr>\n",
       "    <tr>\n",
       "      <td>4</td>\n",
       "      <td>5d80dfbc6c53455f896e600e</td>\n",
       "      <td>How Competition law evolved?</td>\n",
       "      <td>Competition Laws</td>\n",
       "      <td>blog</td>\n",
       "    </tr>\n",
       "  </tbody>\n",
       "</table>\n",
       "</div>"
      ],
      "text/plain": [
       "                        _id                          title  \\\n",
       "0  5d62abaa65218653a132c956                    hello there   \n",
       "1  5d6d39567fa40e1417a4931c                      Ml and AI   \n",
       "2  5d7d23315720533e15c3b1ee  What is an Operating System ?   \n",
       "3  5d7d405e5720533e15c3b1f3                     Lord Shiva   \n",
       "4  5d80dfbc6c53455f896e600e   How Competition law evolved?   \n",
       "\n",
       "                                            category  post_type  \n",
       "0                                Plant Biotechnology       blog  \n",
       "1  Artificial Intelligence|Machine Learning|Infor...       blog  \n",
       "2                                  Operating Systems       blog  \n",
       "3                                           Drawings    artwork  \n",
       "4                                   Competition Laws       blog  "
      ]
     },
     "execution_count": 4,
     "metadata": {},
     "output_type": "execute_result"
    }
   ],
   "source": [
    "df = pd.read_csv(r'C:\\Users\\Asus\\Untitled Folder\\data of post recommendation\\posts.csv')\n",
    "df.head()"
   ]
  },
  {
   "cell_type": "code",
   "execution_count": 40,
   "metadata": {},
   "outputs": [],
   "source": [
    "\n",
    "index =  np.arange(0,493,1)\n",
    "df['index']= index"
   ]
  },
  {
   "cell_type": "code",
   "execution_count": 45,
   "metadata": {},
   "outputs": [
    {
     "data": {
      "text/plain": [
       "(493, 6)"
      ]
     },
     "execution_count": 45,
     "metadata": {},
     "output_type": "execute_result"
    }
   ],
   "source": [
    "#df.columns\n",
    "#df.shape\n",
    "#df.head(-5)"
   ]
  },
  {
   "cell_type": "code",
   "execution_count": 19,
   "metadata": {},
   "outputs": [
    {
     "data": {
      "text/plain": [
       "False"
      ]
     },
     "execution_count": 19,
     "metadata": {},
     "output_type": "execute_result"
    }
   ],
   "source": [
    "df['category'].isnull().values.any()"
   ]
  },
  {
   "cell_type": "code",
   "execution_count": 20,
   "metadata": {},
   "outputs": [],
   "source": [
    "df['category'].fillna(\"\", inplace = True)"
   ]
  },
  {
   "cell_type": "code",
   "execution_count": 22,
   "metadata": {},
   "outputs": [],
   "source": [
    "features = ['title', 'category', ' post_type']"
   ]
  },
  {
   "cell_type": "code",
   "execution_count": 24,
   "metadata": {},
   "outputs": [],
   "source": [
    "def combine_features(row):\n",
    "    return row['title']+\" \"+row['category']+\" \"+row[' post_type']"
   ]
  },
  {
   "cell_type": "code",
   "execution_count": 27,
   "metadata": {},
   "outputs": [],
   "source": [
    "df[\"combined_features\"] = df.apply(combine_features, axis=1)\n",
    "#df.head()"
   ]
  },
  {
   "cell_type": "code",
   "execution_count": 29,
   "metadata": {},
   "outputs": [],
   "source": [
    "cv = CountVectorizer()\n",
    "count_matrix = cv.fit_transform(df['combined_features'])"
   ]
  },
  {
   "cell_type": "code",
   "execution_count": 57,
   "metadata": {},
   "outputs": [
    {
     "name": "stdout",
     "output_type": "stream",
     "text": [
      "Ml and AI\n"
     ]
    }
   ],
   "source": [
    "cosine_sim = cosine_similarity(count_matrix)\n",
    "post_user_likes = input()"
   ]
  },
  {
   "cell_type": "code",
   "execution_count": 58,
   "metadata": {},
   "outputs": [],
   "source": [
    "def get_index_from_title(title):\n",
    "    return df[df.title ==title][\"index\"].values[0]\n",
    "\n",
    "def get_title_from_index(index):\n",
    "    return df[df.index==index][\"title\"].values[0]"
   ]
  },
  {
   "cell_type": "code",
   "execution_count": 59,
   "metadata": {},
   "outputs": [],
   "source": [
    "post_index = get_index_from_title(post_user_likes)\n",
    "similar_posts = list(enumerate(cosine_sim[post_index]))"
   ]
  },
  {
   "cell_type": "code",
   "execution_count": 60,
   "metadata": {},
   "outputs": [],
   "source": [
    "sorted_similar_posts = sorted(similar_posts,key =lambda x:x[1], reverse = True)"
   ]
  },
  {
   "cell_type": "code",
   "execution_count": 61,
   "metadata": {},
   "outputs": [
    {
     "name": "stdout",
     "output_type": "stream",
     "text": [
      "Ml and AI\n",
      "10 Best Artificial Intelligence (AI) Courses Online for 2020\n",
      "8 Best Machine Learning Courses for 2020\n",
      "Artificial Intelligence\n",
      "Types Of AI.\n",
      "Learning...\n",
      "Machine Learning”&“Operations\" (MlOps)\n",
      "Recommend Systems Machine Learning\n",
      "GAN's INTRODUCTION\n",
      "GAN's Part(2)\n",
      "What is Information technology?\n",
      "MIS\n",
      "Ethernet\n",
      "Stereoscopic and virtual-reality systems\n",
      "What sports will look like in the future\n",
      "Information System\n",
      "6 Best + Free PLC Programming Training & Course [2020 UPDATED]\n",
      "Integrating Machine Learning with devOps(MLops)\n",
      "7 Best Python Data Science Courses & Certification [2020]\n",
      "CI/CD using GitHub Actions\n",
      "Firewall\n",
      "Baseband & Broadband\n",
      "Network Model\n",
      "Topology & it's types\n",
      "Network & it's types\n",
      "Configure CI/CD Pipeline in GitLab and deployment to server via SSH\n",
      "Database management system(DBMS)\n",
      "Decision Making with 7 steps !!!\n",
      "10 Best UI UX Design Course & Certification [2020]\n",
      "Operators In PHP\n",
      "Configure Docker with Django; PostgreSQL; Pg-admin & Elasticsearch\n",
      "DATA AND MESSAGE SECURITY\n",
      "Printers\n",
      "PHP Variables\n",
      "Mobile Computing Technology\n",
      "PHP\n",
      "C#(.NET)\n",
      "Will AI replace humans intellectual work?\n",
      "Employee Stock Option and Buyback Securities.\n",
      "8 Free Data Science Courses & Tutorials [2020]\n",
      "App Development\n",
      "WHAT NEW TECHNOLOGY DOES BANKS ARE USING TODAY?\n",
      "Benefits of Guest Posting to both Writers and Brand\n",
      "SEO (Search Engine Optimization)\n",
      "Face Recognition using Transfer Learning.\n",
      "AWS services and how to launch OS on AWS Cloud\n",
      "Operating System 1\n",
      "Human Rights and Duties\n",
      "Network Security Threats\n",
      "How Artificial Intelligence tools Help You To Get Smart In Your Content Marketing\n",
      "Concept of Human Rights and Duties\n"
     ]
    }
   ],
   "source": [
    "i=0\n",
    "for ele in sorted_similar_posts:\n",
    "    print(get_title_from_index(ele[0]))\n",
    "    i = i+1\n",
    "    if i>50:\n",
    "        break;"
   ]
  }
 ],
 "metadata": {
  "kernelspec": {
   "display_name": "Python 3",
   "language": "python",
   "name": "python3"
  },
  "language_info": {
   "codemirror_mode": {
    "name": "ipython",
    "version": 3
   },
   "file_extension": ".py",
   "mimetype": "text/x-python",
   "name": "python",
   "nbconvert_exporter": "python",
   "pygments_lexer": "ipython3",
   "version": "3.7.4"
  }
 },
 "nbformat": 4,
 "nbformat_minor": 2
}
